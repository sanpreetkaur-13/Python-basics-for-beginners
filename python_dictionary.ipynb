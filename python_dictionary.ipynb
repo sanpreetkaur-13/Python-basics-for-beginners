{
 "cells": [
  {
   "cell_type": "markdown",
   "metadata": {},
   "source": [
    "<p><strong>Dictionary</strong></p>\n",
    "Suppose we want store highest scores of some cricketers. \n",
    "We can use two lists where one list will store name of the cricketer and another list will store respective scores. Two list will looks like as follows: -"
   ]
  },
  {
   "cell_type": "code",
   "execution_count": null,
   "metadata": {},
   "outputs": [],
   "source": [
    "names = ['Sachin', 'Sourav', 'Rahul', 'Virat']\n",
    "scores = [200, 183, 153, 183]"
   ]
  },
  {
   "cell_type": "markdown",
   "metadata": {},
   "source": [
    "Now if we want to find highest scores of Rahul, first we need to find index position of Rahul in names list, then use the index to access scores form scores list. The entire process looks little tedious. Our mind says, is there any data type where we can access scores just giving name? like in list, we can access values by position index.\n",
    "The answer is Yes, In Python, we have a data type called dictionary. We can store score data in dictionary as follows: -"
   ]
  },
  {
   "cell_type": "code",
   "execution_count": null,
   "metadata": {},
   "outputs": [],
   "source": [
    "scores = {}\n",
    "scores['Sachin'] = 200\n",
    "scores['Sourav'] = 183\n",
    "scores['Rahul'] = 153\n",
    "scores['Virat'] = 183\n",
    "scores"
   ]
  },
  {
   "cell_type": "markdown",
   "metadata": {},
   "source": [
    "By definition, dictionary is an unordered collection of items. While other compound data types have only value as an element, a dictionary has a key: value pa\n",
    "Here name of the cricketer is used as key and scores is the value. \n",
    "We can store or access value by key. If we want to know access scores of Virat,"
   ]
  },
  {
   "cell_type": "code",
   "execution_count": null,
   "metadata": {},
   "outputs": [],
   "source": [
    "scores['Virat']"
   ]
  },
  {
   "cell_type": "markdown",
   "metadata": {},
   "source": [
    "We can initialise a dictionary as follows: -"
   ]
  },
  {
   "cell_type": "code",
   "execution_count": 2,
   "metadata": {},
   "outputs": [
    {
     "name": "stdout",
     "output_type": "stream",
     "text": [
      "{'Sachin': 200, 'Sourav': 183, 'Rahul': 153, 'Virat': 183}\n",
      "{}\n"
     ]
    }
   ],
   "source": [
    "scores = {'Sachin': 200, 'Sourav': 183, 'Rahul': 153, 'Virat': 183}\n",
    "print(scores)\n",
    "empty_dic = {}\n",
    "print(empty_dic)"
   ]
  },
  {
   "cell_type": "markdown",
   "metadata": {},
   "source": [
    "Dictionary is mutable - we can update values in dictionary. For example if Virat scores double century today we can update the dictionary"
   ]
  },
  {
   "cell_type": "code",
   "execution_count": null,
   "metadata": {},
   "outputs": [],
   "source": [
    "scores['Virat'] = 205\n",
    "print(scores)"
   ]
  },
  {
   "cell_type": "markdown",
   "metadata": {},
   "source": [
    "Also we can add  a new key. If we want to add Sehwag in this list, we just simply write down"
   ]
  },
  {
   "cell_type": "code",
   "execution_count": null,
   "metadata": {},
   "outputs": [],
   "source": [
    "scores['Sehwag'] = 219\n",
    "print(scores)"
   ]
  },
  {
   "cell_type": "markdown",
   "metadata": {},
   "source": [
    "But we can not update a key. Only immutable objects are used as key.  We can use int, float, string, tuple from whatever we have discussed so far as key, but we can not use list as key. Whereas values can be anything, int, float, string, tuple, list, even another dictionary. "
   ]
  },
  {
   "cell_type": "markdown",
   "metadata": {},
   "source": [
    "Now we are going to show you different types of keys and values."
   ]
  },
  {
   "cell_type": "code",
   "execution_count": 1,
   "metadata": {},
   "outputs": [
    {
     "name": "stdout",
     "output_type": "stream",
     "text": [
      "{1: 100, 2.5: 250, 'pi': 3.14, (0, 'aa'): 'A tuple', 'alist': [11, 22, 33], 'adic': {'abc': 123, 123: 'abc'}}\n"
     ]
    }
   ],
   "source": [
    "dict1  = {1:100, 2.5:250, 'pi': 3.14, (0,'aa'):'A tuple', 'alist': [11, 22, 33], 'adic': {'abc': 123, 123:'abc'}}\n",
    "print(dict1)"
   ]
  },
  {
   "cell_type": "markdown",
   "metadata": {},
   "source": [
    "You are requested to try to create a dictionary with list and dictionary as key. Definitely, you will get some errors since keys must be immutable objects. It will be worthy to have a look at error messages."
   ]
  },
  {
   "cell_type": "markdown",
   "metadata": {},
   "source": [
    "Just we have seen, we may have nested dictionaries. This gives opportunity to store information more compact way. For example, instead of highest scores if we want store some more attributes like average score, total number of match played etc then the dictionary will look like"
   ]
  },
  {
   "cell_type": "code",
   "execution_count": null,
   "metadata": {},
   "outputs": [],
   "source": [
    "cricketers = {'Sachin': {'max score': 200, 'avg score': 44.83, 'total match': 463},\n",
    "             'Sourav': {'max score': 183, 'avg score': 41.02, 'total match': 311}}\n",
    "cricketers"
   ]
  },
  {
   "cell_type": "markdown",
   "metadata": {},
   "source": [
    "To find out average score of Sachin,"
   ]
  },
  {
   "cell_type": "code",
   "execution_count": null,
   "metadata": {},
   "outputs": [],
   "source": [
    "print(cricketers['Sachin']['avg score'])"
   ]
  },
  {
   "cell_type": "markdown",
   "metadata": {},
   "source": [
    "That’s all for this session. We will again revisit all data types specifically string, list, tuple and dictionary after introducing you to control flow of a program including conditional statements, and loops, functions, class and methods. \n",
    "We will discuss how to iterate over strings, lists, tuples and dictionaries, inbuilt methods, many useful functions for operations on strings etc."
   ]
  }
 ],
 "metadata": {
  "kernelspec": {
   "display_name": "Python 3",
   "language": "python",
   "name": "python3"
  },
  "language_info": {
   "codemirror_mode": {
    "name": "ipython",
    "version": 3
   },
   "file_extension": ".py",
   "mimetype": "text/x-python",
   "name": "python",
   "nbconvert_exporter": "python",
   "pygments_lexer": "ipython3",
   "version": "3.7.2"
  }
 },
 "nbformat": 4,
 "nbformat_minor": 2
}
