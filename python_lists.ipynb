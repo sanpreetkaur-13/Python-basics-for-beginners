{
 "cells": [
  {
   "cell_type": "markdown",
   "metadata": {},
   "source": [
    "<p class=\"p1\"><strong>List</strong><br />List is another sequence of items of any type.</p>"
   ]
  },
  {
   "cell_type": "markdown",
   "metadata": {},
   "source": [
    "<p><strong>A list of integers</strong></p>"
   ]
  },
  {
   "cell_type": "code",
   "execution_count": null,
   "metadata": {},
   "outputs": [],
   "source": [
    "ints = [11, 22, 33, 44]\n",
    "print('list = {}, type = {}'.format(ints, type(ints)))"
   ]
  },
  {
   "cell_type": "markdown",
   "metadata": {},
   "source": [
    "<p><strong>A list of real numbers</strong></p>"
   ]
  },
  {
   "cell_type": "code",
   "execution_count": null,
   "metadata": {},
   "outputs": [],
   "source": [
    "reals = [1.1, 2.2, 3.3, 4.4]\n",
    "print('list = {}, type = {}'.format(reals, type(reals)))"
   ]
  },
  {
   "cell_type": "markdown",
   "metadata": {},
   "source": [
    "<p><strong>A list of strings</strong></p>"
   ]
  },
  {
   "cell_type": "code",
   "execution_count": null,
   "metadata": {},
   "outputs": [],
   "source": [
    "languages = ['Python', 'Java', 'C++']\n",
    "print('list = {}, type = {}'.format(languages, type(languages)))"
   ]
  },
  {
   "cell_type": "markdown",
   "metadata": {},
   "source": [
    "<p><strong>A list of mixed item</strong></p>"
   ]
  },
  {
   "cell_type": "code",
   "execution_count": null,
   "metadata": {},
   "outputs": [],
   "source": [
    "mixed = [3.14, True, 'Spotle']\n",
    "print('list = {}, type = {}'.format(mixed, type(mixed)))"
   ]
  },
  {
   "cell_type": "markdown",
   "metadata": {},
   "source": [
    "<p><strong>Accessign Elements:</strong></p>\n",
    "<table>\n",
    "<tbody>\n",
    "<tr>\n",
    "<td style=\"width: 49px;\">0</td>\n",
    "<td style=\"width: 49px;\">1</td>\n",
    "<td style=\"width: 50px;\">2</td>\n",
    "<td style=\"width: 50px;\">3</td>\n",
    "</tr>\n",
    "<tr>\n",
    "<td style=\"width: 49px;\">11</td>\n",
    "<td style=\"width: 49px;\">22</td>\n",
    "<td style=\"width: 50px;\">33</td>\n",
    "<td style=\"width: 50px;\">44</td>\n",
    "</tr>\n",
    "<tr>\n",
    "<td style=\"width: 49px;\">-4</td>\n",
    "<td style=\"width: 49px;\">-3</td>\n",
    "<td style=\"width: 50px;\">-2</td>\n",
    "<td style=\"width: 50px;\">-1</td>\n",
    "</tr>\n",
    "</tbody>\n",
    "</table>"
   ]
  },
  {
   "cell_type": "code",
   "execution_count": null,
   "metadata": {},
   "outputs": [],
   "source": [
    "item = ints[3]\n",
    "print('item = {}, type = {}'.format(item, type(item)))"
   ]
  },
  {
   "cell_type": "code",
   "execution_count": null,
   "metadata": {},
   "outputs": [],
   "source": [
    "items = ints[1:3]\n",
    "print('item = {}, type = {}'.format(items, type(items)))"
   ]
  },
  {
   "cell_type": "code",
   "execution_count": null,
   "metadata": {},
   "outputs": [],
   "source": [
    "print('length of list mixed = {}'.format(len(mixed)))"
   ]
  },
  {
   "cell_type": "markdown",
   "metadata": {},
   "source": [
    "<p><strong>String Vs List:</strong></p>\n",
    "<table width=\"360\">\n",
    "<tbody>\n",
    "<tr>\n",
    "<td>0</td>\n",
    "<td>1</td>\n",
    "<td>2</td>\n",
    "<td>3</td>\n",
    "<td>4</td>\n",
    "<td>5</td>\n",
    "<td>6</td>\n",
    "<td>7</td>\n",
    "<td>8</td>\n",
    "</tr>\n",
    "<tr>\n",
    "<td>S</td>\n",
    "<td>p</td>\n",
    "<td>o</td>\n",
    "<td>t</td>\n",
    "<td>l</td>\n",
    "<td>e</td>\n",
    "<td>.</td>\n",
    "<td>a</td>\n",
    "<td>i</td>\n",
    "</tr>\n",
    "<tr>\n",
    "<td>-9</td>\n",
    "<td>-8</td>\n",
    "<td>-7</td>\n",
    "<td>-6</td>\n",
    "<td>-5</td>\n",
    "<td>-4</td>\n",
    "<td>-3</td>\n",
    "<td>-2</td>\n",
    "<td>-1</td>\n",
    "</tr>\n",
    "</tbody>\n",
    "</table>"
   ]
  },
  {
   "cell_type": "code",
   "execution_count": null,
   "metadata": {},
   "outputs": [],
   "source": [
    "astring = 'Spotle.ai'\n",
    "element = astring[0]\n",
    "print('The element = {}, type = {}'.format(element, type(element)))\n",
    "element = astring[0:1]\n",
    "print('The element = {}, type = {}'.format(element, type(element)))"
   ]
  },
  {
   "cell_type": "markdown",
   "metadata": {},
   "source": [
    "<table>\n",
    "<tbody>\n",
    "<tr>\n",
    "<td style=\"width: 49px;\">0</td>\n",
    "<td style=\"width: 49px;\">1</td>\n",
    "<td style=\"width: 50px;\">2</td>\n",
    "<td style=\"width: 50px;\">3</td>\n",
    "</tr>\n",
    "<tr>\n",
    "<td style=\"width: 49px;\">11</td>\n",
    "<td style=\"width: 49px;\">22</td>\n",
    "<td style=\"width: 50px;\">33</td>\n",
    "<td style=\"width: 50px;\">44</td>\n",
    "</tr>\n",
    "<tr>\n",
    "<td style=\"width: 49px;\">-4</td>\n",
    "<td style=\"width: 49px;\">-3</td>\n",
    "<td style=\"width: 50px;\">-2</td>\n",
    "<td style=\"width: 50px;\">-1</td>\n",
    "</tr>\n",
    "</tbody>\n",
    "</table>"
   ]
  },
  {
   "cell_type": "code",
   "execution_count": null,
   "metadata": {},
   "outputs": [],
   "source": [
    "alist = [11, 22, 33, 44]\n",
    "element = alist[0]\n",
    "print('The element = {}, type = {}'.format(element, type(element)))\n",
    "element = alist[0:1]\n",
    "print('The element = {}, type = {}'.format(element, type(element)))"
   ]
  },
  {
   "cell_type": "code",
   "execution_count": null,
   "metadata": {},
   "outputs": [],
   "source": [
    "alist[0] = 10\n",
    "print('list = {}, type = {}'.format(alist, type(alist)))"
   ]
  },
  {
   "cell_type": "markdown",
   "metadata": {},
   "source": [
    "<p><strong>Mutuable Vs Immutable</strong></p>"
   ]
  },
  {
   "cell_type": "code",
   "execution_count": null,
   "metadata": {},
   "outputs": [],
   "source": [
    "x = 10\n",
    "y = x\n",
    "print('x = {}, y = {}'.format(x, y))\n",
    "x = 20\n",
    "print('x = {}, y = {}'.format(x, y))"
   ]
  },
  {
   "cell_type": "code",
   "execution_count": null,
   "metadata": {},
   "outputs": [],
   "source": [
    "list1 = [11, 22, 33, 44]\n",
    "list2 = list1\n",
    "print('list1 = {}, list2 = {}'.format(list1, list2))\n",
    "list1[0] = 10\n",
    "print('list1 = {}, list2 = {}'.format(list1, list2))"
   ]
  },
  {
   "cell_type": "markdown",
   "metadata": {},
   "source": [
    "<p><strong>Equality Vs Identity</strong></p>"
   ]
  },
  {
   "cell_type": "code",
   "execution_count": null,
   "metadata": {},
   "outputs": [],
   "source": [
    "list1 = [11, 22, 33, 44]\n",
    "list2 = [11, 22, 33, 44]\n",
    "list3 = list2"
   ]
  },
  {
   "cell_type": "code",
   "execution_count": null,
   "metadata": {},
   "outputs": [],
   "source": [
    "print(list1 == list2)\n",
    "print(list2 == list3)"
   ]
  },
  {
   "cell_type": "code",
   "execution_count": null,
   "metadata": {},
   "outputs": [],
   "source": [
    "print(list1 is list2)\n",
    "print(list2 is list3)"
   ]
  },
  {
   "cell_type": "code",
   "execution_count": null,
   "metadata": {},
   "outputs": [],
   "source": [
    "print('id of list1 = {}'.format(id(list1)))\n",
    "print('id of list2 = {}'.format(id(list3)))\n",
    "print('id of list3 = {}'.format(id(list3)))"
   ]
  },
  {
   "cell_type": "markdown",
   "metadata": {},
   "source": [
    "<p><strong>Concatenation of lists</strong></p>"
   ]
  },
  {
   "cell_type": "code",
   "execution_count": null,
   "metadata": {},
   "outputs": [],
   "source": [
    "list1 = [11, 22, 33, 44]\n",
    "list2 = [10, 20, 30, 40]\n",
    "list3 = list1 + list2\n",
    "print(list3)"
   ]
  },
  {
   "cell_type": "code",
   "execution_count": null,
   "metadata": {},
   "outputs": [],
   "source": [
    "list1 = [11, 22, 33, 44]\n",
    "list2 = list1\n",
    "list1 = list1 + [55]\n",
    "print(list1)\n",
    "print(list2)"
   ]
  },
  {
   "cell_type": "markdown",
   "metadata": {},
   "source": [
    "<p><strong>Copy</strong></p>"
   ]
  },
  {
   "cell_type": "code",
   "execution_count": null,
   "metadata": {},
   "outputs": [],
   "source": [
    "list1 = [11, 22, 33, 44]\n",
    "list2 = list1[:]\n",
    "print(list1 == list2)\n",
    "print(list1 is list2)"
   ]
  },
  {
   "cell_type": "code",
   "execution_count": null,
   "metadata": {},
   "outputs": [],
   "source": []
  }
 ],
 "metadata": {
  "kernelspec": {
   "display_name": "Python 3",
   "language": "python",
   "name": "python3"
  },
  "language_info": {
   "codemirror_mode": {
    "name": "ipython",
    "version": 3
   },
   "file_extension": ".py",
   "mimetype": "text/x-python",
   "name": "python",
   "nbconvert_exporter": "python",
   "pygments_lexer": "ipython3",
   "version": "3.7.2"
  }
 },
 "nbformat": 4,
 "nbformat_minor": 2
}
