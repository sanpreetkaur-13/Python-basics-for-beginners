{
 "cells": [
  {
   "cell_type": "code",
   "execution_count": null,
   "metadata": {},
   "outputs": [],
   "source": [
    "''' A Typical Python Program '''\n",
    "\n",
    "def my_sum(a, b):\n",
    "    c = a + b\n",
    "    return c\n",
    "\n",
    "def my_prod(a, b):\n",
    "    return a * b\n",
    "\n",
    "def my_bad_prod(m, n):\n",
    "    return mn;\n",
    "\n",
    "x = 5\n",
    "print(\"sum of two numbers {} and {} = {}\".format(x, 2, my_sum(x, 2)))\n",
    "y = 2\n",
    "print(\"product of two numbers {} and {} = {}\".format(x, y, my_prod(x, y)))"
   ]
  },
  {
   "cell_type": "code",
   "execution_count": null,
   "metadata": {},
   "outputs": [],
   "source": [
    "''' A Jumbled Program '''\n",
    "x = 5\n",
    "\n",
    "def my_sum(a, b):\n",
    "    c = a + b\n",
    "    return c\n",
    "\n",
    "print(\"sum of two numbers {} and {} = {}\".format(x, 2, my_sum(x, 2)))\n",
    "y = 2\n",
    "\n",
    "def my_prod(a, b):\n",
    "    return a * b\n",
    "\n",
    "print(\"product of two numbers {} and {} = {}\".format(x, y, my_prod(x, y)))"
   ]
  },
  {
   "cell_type": "code",
   "execution_count": null,
   "metadata": {},
   "outputs": [],
   "source": [
    "''' Assignment Statement '''\n",
    "x = 5\n",
    "y = x * 2\n",
    "x = x + 1\n",
    "print()"
   ]
  },
  {
   "cell_type": "code",
   "execution_count": null,
   "metadata": {},
   "outputs": [],
   "source": [
    "''' Numeric Values in Python '''\n",
    "x = 3\n",
    "d = 3.14\n",
    "\n",
    "print(type(x))\n",
    "print(type(d))\n",
    "\n",
    "print(type(-10))\n",
    "print(type(-2.75))"
   ]
  },
  {
   "cell_type": "code",
   "execution_count": null,
   "metadata": {},
   "outputs": [],
   "source": [
    "''' Operations on Numbers '''\n",
    "''' \n",
    "    + for addition\n",
    "    - for subtraction\n",
    "    * for multipliction\n",
    "    / for division\n",
    "'''\n",
    "\n",
    "x = 3 + 1\n",
    "print('x = {} and type of x = {} after x = 3 + 1'.format(x, type(x)))\n",
    "\n",
    "x = 3 - 2\n",
    "print('x = {} and type of x = {} after x = 3 - 2'.format(x, type(x)))\n",
    "\n",
    "x = 3 * 2\n",
    "print('x = {} and type of x = {} after x = 3 * 1'.format(x, type(x)))\n",
    "\n",
    "x = 3 / 2\n",
    "print('x = {} and type of x = {} after x = 3 / 2'.format(x, type(x)))"
   ]
  },
  {
   "cell_type": "code",
   "execution_count": 1,
   "metadata": {},
   "outputs": [
    {
     "name": "stdout",
     "output_type": "stream",
     "text": [
      "x = 5.5 and type of x = <class 'float'> after x = 3.5 + 2\n",
      "x = 1.5 and type of x = <class 'float'> after x = 3.5 - 2\n",
      "x = 7.0 and type of x = <class 'float'> after x = 3.5 * 2\n",
      "x = 1.75 and type of x = <class 'float'> after x = 3.5 / 2\n"
     ]
    }
   ],
   "source": [
    "''' Operations on Numbers '''\n",
    "\n",
    "x = 3.5 + 2\n",
    "print('x = {} and type of x = {} after x = 3.5 + 2'.format(x, type(x)))\n",
    "\n",
    "x = 3.5 - 2\n",
    "print('x = {} and type of x = {} after x = 3.5 - 2'.format(x, type(x)))\n",
    "\n",
    "x = 3.5 * 2\n",
    "print('x = {} and type of x = {} after x = 3.5 * 2'.format(x, type(x)))\n",
    "\n",
    "x = 3.5 / 2\n",
    "print('x = {} and type of x = {} after x = 3.5 / 2'.format(x, type(x)))"
   ]
  },
  {
   "cell_type": "code",
   "execution_count": null,
   "metadata": {},
   "outputs": [],
   "source": [
    "''' Operations on Numbers '''\n",
    "''' \n",
    "    // for quotient\n",
    "    %  for remainder\n",
    "    ** for exponentiation\n",
    "'''\n",
    "\n",
    "x = 7 // 2\n",
    "print('x = {} and type of x = {} after x = 7 // 2'.format(x, type(x)))\n",
    "\n",
    "\n",
    "x = 7 % 2\n",
    "print('x = {} and type of x = {} after x = 7 % 2'.format(x, type(x)))\n",
    "\n",
    "x = 2 ** 5\n",
    "print('x = {} and type of x = {} after x = 2 ** 5'.format(x, type(x)))\n",
    "\n",
    "x = 2 * 2 * 2 * 2 * 2\n",
    "print('x = {} and type of x = {} after x = 2 * 2 * 2 * 2 * 2'.format(x, type(x)))"
   ]
  },
  {
   "cell_type": "code",
   "execution_count": null,
   "metadata": {},
   "outputs": [],
   "source": [
    "''' Operations on Numbers '''\n",
    "'''\n",
    "    x (op)= y --> x = x (op) y\n",
    "    x += y is equivalent to x = x + y\n",
    "'''\n",
    "\n",
    "x = 3\n",
    "y = 2\n",
    "x += y\n",
    "print('x = {} after x += y'.format(x))\n",
    "\n",
    "##\n",
    "#    candidates are requested to check with other operators\n",
    "#    like -, *, /, //, %, ** as exercises\n",
    "##"
   ]
  },
  {
   "cell_type": "code",
   "execution_count": null,
   "metadata": {},
   "outputs": [],
   "source": [
    "''' Advance operations on Numbers '''\n",
    "'''\n",
    "    https://docs.python.org/3/library/math.html\n",
    "    a few functions from math.py\n",
    "    \n",
    "    sqrt(x) - return the square root of x.\n",
    "    \n",
    "    log(x[, base]) - return the logarithm of x to the given base. default value of base is e\n",
    "    \n",
    "    pow(x, y) - return x raised to the power y. x and y both are converted to float.\n",
    "'''\n",
    "\n",
    "import math\n",
    "\n",
    "x = math.sqrt(25)\n",
    "print('x = {} and type of x = {} after x = math.sqrt(25)'.format(x, type(x)))\n",
    "\n",
    "x = math.log(10)\n",
    "print('x = {} and type of x = {} after x = x = math.log(10)'.format(x, type(x)))\n",
    "\n",
    "x = math.log(32, 2)\n",
    "print('x = {} and type of x = {} after x = math.log(32, 2)'.format(x, type(x)))\n",
    "\n",
    "x = math.pow(2, 5)\n",
    "print('x = {} and type of x = {} after x = math.pow(2, 5)'.format(x, type(x)))\n",
    "\n",
    "x = math.pow(2.5, 2.5)\n",
    "print('x = {} and type of x = {} after x = math.pow(2.5, 2.5)'.format(x, type(x)))"
   ]
  },
  {
   "cell_type": "code",
   "execution_count": null,
   "metadata": {},
   "outputs": [],
   "source": [
    "''' Boolean Values '''\n",
    "''' True and False '''\n",
    "\n",
    "''' \n",
    "    not - negate the current value\n",
    "    and - true if both are true, false otherwise\n",
    "    or - true if at least one is true\n",
    "'''\n",
    "\n",
    "print (not True)\n",
    "print(not False)"
   ]
  },
  {
   "cell_type": "code",
   "execution_count": null,
   "metadata": {},
   "outputs": [],
   "source": [
    "x = True\n",
    "print(not x)"
   ]
  },
  {
   "cell_type": "code",
   "execution_count": null,
   "metadata": {},
   "outputs": [],
   "source": [
    "x = True\n",
    "y = False\n",
    "print(x and y)\n",
    "\n",
    "y = True\n",
    "print(x and y)"
   ]
  },
  {
   "cell_type": "code",
   "execution_count": null,
   "metadata": {},
   "outputs": [],
   "source": [
    "x = True\n",
    "y = False\n",
    "print(x or y)\n",
    "\n",
    "x = False\n",
    "print(x or y)"
   ]
  },
  {
   "cell_type": "code",
   "execution_count": null,
   "metadata": {},
   "outputs": [],
   "source": [
    "''' Comparisons '''\n",
    "''' \n",
    "    ==  - check equility\n",
    "    !=  - check inequality\n",
    "    >   - true if left is greater than right\n",
    "    >=  - true if left is greater than equal to right\n",
    "    <   - true if left is less than right\n",
    "    <=  - true if left is less than equal to right\n",
    "'''\n",
    "\n",
    "print(5==5)\n",
    "print(5==6)\n",
    "print(5!=6)"
   ]
  },
  {
   "cell_type": "code",
   "execution_count": null,
   "metadata": {},
   "outputs": [],
   "source": [
    "print(5<6)\n",
    "print(5>6)"
   ]
  },
  {
   "cell_type": "code",
   "execution_count": null,
   "metadata": {},
   "outputs": [],
   "source": [
    "print(5.2 <= 6.5)\n",
    "print(6.5 <= 6.5)\n",
    "print(7 <= 6.5)"
   ]
  },
  {
   "cell_type": "code",
   "execution_count": null,
   "metadata": {},
   "outputs": [],
   "source": [
    "print(not 5==5)"
   ]
  },
  {
   "cell_type": "code",
   "execution_count": null,
   "metadata": {},
   "outputs": [],
   "source": [
    "''' Python Operators Precedence '''\n",
    "'''\n",
    "    1 -- **\n",
    "    2 -- *, /, %, //\n",
    "    3 -- +, -\n",
    "    4 -- <=, <, >, >=\n",
    "    5 -- <>, ==, !=\n",
    "'''\n",
    "\n",
    "m = 100\n",
    "n = 12\n",
    "o = 7\n",
    "p = 2\n",
    "q = 5\n",
    "r = 3\n",
    "\n",
    "x = m - n / r + p ** q // o\n",
    "print(x)\n",
    "\n",
    "# x = m - (n/r) + ((p**q) // o)*/\n",
    "\n",
    "b = p**q\n",
    "print(b)\n",
    "\n",
    "b //= o\n",
    "print(b)\n",
    "\n",
    "a = n/r\n",
    "print(a)\n",
    "\n",
    "print(m - a + b)"
   ]
  },
  {
   "cell_type": "code",
   "execution_count": null,
   "metadata": {},
   "outputs": [],
   "source": []
  }
 ],
 "metadata": {
  "kernelspec": {
   "display_name": "Python 3",
   "language": "python",
   "name": "python3"
  },
  "language_info": {
   "codemirror_mode": {
    "name": "ipython",
    "version": 3
   },
   "file_extension": ".py",
   "mimetype": "text/x-python",
   "name": "python",
   "nbconvert_exporter": "python",
   "pygments_lexer": "ipython3",
   "version": "3.7.2"
  }
 },
 "nbformat": 4,
 "nbformat_minor": 2
}
