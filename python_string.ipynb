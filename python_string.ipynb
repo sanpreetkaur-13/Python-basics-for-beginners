{
 "cells": [
  {
   "cell_type": "markdown",
   "metadata": {},
   "source": [
    "<p><strong>String or text in Python</strong><br />type str - a sequence of characters<br /> No separate class for single character</p>"
   ]
  },
  {
   "cell_type": "code",
   "execution_count": null,
   "metadata": {},
   "outputs": [],
   "source": [
    "welcome = 'Welcome to Spotle.ai'\n",
    "print('text = {}, type = {}'.format(welcome, type(welcome)))"
   ]
  },
  {
   "cell_type": "markdown",
   "metadata": {},
   "source": [
    "<p><strong>Double quotes</strong></p>"
   ]
  },
  {
   "cell_type": "code",
   "execution_count": null,
   "metadata": {},
   "outputs": [],
   "source": [
    "welcome = \"Welcome to Spotle.ai\"\n",
    "print('text = {}, type = {}'.format(welcome, type(welcome)))"
   ]
  },
  {
   "cell_type": "markdown",
   "metadata": {},
   "source": [
    "<p><strong>Single quote within double quotes</strong></p>"
   ]
  },
  {
   "cell_type": "code",
   "execution_count": null,
   "metadata": {},
   "outputs": [],
   "source": [
    "note = \"Spotle's masterclass\"\n",
    "print('text = {}, type = {}'.format(note, type(note)))"
   ]
  },
  {
   "cell_type": "markdown",
   "metadata": {},
   "source": [
    "<p><strong>Single quote within single quotes, using back slash</strong></p>"
   ]
  },
  {
   "cell_type": "code",
   "execution_count": null,
   "metadata": {},
   "outputs": [],
   "source": [
    "note = 'Spotle\\'s masterclass'\n",
    "print('text = {}, type = {}'.format(note, type(note)))"
   ]
  },
  {
   "cell_type": "markdown",
   "metadata": {},
   "source": [
    "<p><strong>Single quote, double quote within triple quotes</strong></p>"
   ]
  },
  {
   "cell_type": "code",
   "execution_count": null,
   "metadata": {},
   "outputs": [],
   "source": [
    "note = '''He said his favorite course is \"Spotle's Fundamentals of Python\"'''\n",
    "print('text = {}, type = {}'.format(note, type(note)))"
   ]
  },
  {
   "cell_type": "markdown",
   "metadata": {},
   "source": [
    "<p><strong>Multiple lines within a single assignment statement</strong></p>"
   ]
  },
  {
   "cell_type": "code",
   "execution_count": null,
   "metadata": {},
   "outputs": [],
   "source": [
    "note = '''my first line\n",
    "my second line\n",
    "my third line'''\n",
    "print(note)"
   ]
  },
  {
   "cell_type": "markdown",
   "metadata": {},
   "source": [
    "<p><strong>String as sequence</strong><br /><strong>index</strong>: 0, 1, 2, ..., n-1 for a string of length n<br /><strong>backward index</strong>: -1, -2, ..., -n<br /></p>\n",
    "<table width=\"360\">\n",
    "<tbody>\n",
    "<tr>\n",
    "<td>0</td>\n",
    "<td>1</td>\n",
    "<td>2</td>\n",
    "<td>3</td>\n",
    "<td>4</td>\n",
    "<td>5</td>\n",
    "<td>6</td>\n",
    "<td>7</td>\n",
    "<td>8</td>\n",
    "</tr>\n",
    "<tr>\n",
    "<td>S</td>\n",
    "<td>p</td>\n",
    "<td>o</td>\n",
    "<td>t</td>\n",
    "<td>l</td>\n",
    "<td>e</td>\n",
    "<td>.</td>\n",
    "<td>a</td>\n",
    "<td>i</td>\n",
    "</tr>\n",
    "<tr>\n",
    "<td>-9</td>\n",
    "<td>-8</td>\n",
    "<td>-7</td>\n",
    "<td>-6</td>\n",
    "<td>-5</td>\n",
    "<td>-4</td>\n",
    "<td>-3</td>\n",
    "<td>-2</td>\n",
    "<td>-1</td>\n",
    "</tr>\n",
    "</tbody>\n",
    "</table>\n",
    "<p>s[1] is p<br />s[-3] is .</p>"
   ]
  },
  {
   "cell_type": "code",
   "execution_count": null,
   "metadata": {},
   "outputs": [],
   "source": [
    "s = \"Spotle.ai\"\n",
    "print(s[1])\n",
    "print(s[-3])"
   ]
  },
  {
   "cell_type": "markdown",
   "metadata": {},
   "source": [
    "<p><strong>Concatenation of Strings</strong><br />Combining two strings using <strong>+</strong> operator</p>"
   ]
  },
  {
   "cell_type": "code",
   "execution_count": null,
   "metadata": {},
   "outputs": [],
   "source": [
    "s1 = \"Spotle\"\n",
    "s2 = \".ai\"\n",
    "s = s1 + s2\n",
    "print('text = {}, type = {}'.format(s, type(s)))"
   ]
  },
  {
   "cell_type": "markdown",
   "metadata": {},
   "source": [
    "<p><strong>len function returns length of a string</strong></p>"
   ]
  },
  {
   "cell_type": "code",
   "execution_count": null,
   "metadata": {},
   "outputs": [],
   "source": [
    "print('length of 1st string = {}, length of 2nd string  = {} and length of new string = {}'\n",
    "      .format(len(s1), len(s2), len(s)))"
   ]
  },
  {
   "cell_type": "markdown",
   "metadata": {},
   "source": [
    "<p><strong>Slicing of a Sequence</strong><br />[start:end] return objects from from 'start' position to before of 'end'<br />'start' can be any value &gt;= 0, or &lt;= -1 or empty<br />'end' can be any value &gt;= 0, or &lt;= -1 or empty<br />if start is empty then start = 0<br />if start is negative then&nbsp;internally&nbsp;start = length of sequence + start<br />if end is empty then end = length of the sequence<br />if end is negative then internally end =&nbsp;length of sequence +&nbsp;end</p>\n",
    "<p><strong>Extracting Substring</strong>&nbsp;</p>\n",
    "<table width=\"360\">\n",
    "<tbody>\n",
    "<tr>\n",
    "<td>0</td>\n",
    "<td>1</td>\n",
    "<td>2</td>\n",
    "<td>3</td>\n",
    "<td>4</td>\n",
    "<td>5</td>\n",
    "<td>6</td>\n",
    "<td>7</td>\n",
    "<td>8</td>\n",
    "</tr>\n",
    "<tr>\n",
    "<td>S</td>\n",
    "<td>p</td>\n",
    "<td>o</td>\n",
    "<td>t</td>\n",
    "<td>l</td>\n",
    "<td>e</td>\n",
    "<td>.</td>\n",
    "<td>a</td>\n",
    "<td>i</td>\n",
    "</tr>\n",
    "<tr>\n",
    "<td>-9</td>\n",
    "<td>-8</td>\n",
    "<td>-7</td>\n",
    "<td>-6</td>\n",
    "<td>-5</td>\n",
    "<td>-4</td>\n",
    "<td>-3</td>\n",
    "<td>-2</td>\n",
    "<td>-1</td>\n",
    "</tr>\n",
    "</tbody>\n",
    "</table>"
   ]
  },
  {
   "cell_type": "code",
   "execution_count": null,
   "metadata": {},
   "outputs": [],
   "source": [
    "s = \"Spotle.ai\"\n",
    "print(s[4:8])\n",
    "print(s[:6])\n",
    "print(s[6:])\n",
    "print(s[-4:-1])"
   ]
  },
  {
   "cell_type": "markdown",
   "metadata": {},
   "source": [
    "<p><strong>Modifying a String</strong></p>\n",
    "<p>s = 'Python'<br />s[0] = 'J'</p>\n",
    "<pre><span class=\"ansi-red-fg\" style=\"color: #ff0000;\">---------------------------------------------------------------------------\n",
    "TypeError</span>                                 Traceback (most recent call last)\n",
    "<span class=\"ansi-green-fg\">&lt;ipython-input-13-fbdc8e5db9f4&gt;</span> in <span class=\"ansi-cyan-fg\">&lt;module&gt;</span>\n",
    "<span class=\"ansi-green-intense-fg ansi-bold\">      1</span> s <span class=\"ansi-blue-fg\">=</span> <span class=\"ansi-blue-fg\">'Python'</span>\n",
    "<span class=\"ansi-green-fg\">----&gt; 2</span> s<span class=\"ansi-blue-fg\">[</span><span class=\"ansi-cyan-fg\">0</span><span class=\"ansi-blue-fg\">]</span> <span class=\"ansi-blue-fg\">=</span> <span class=\"ansi-blue-fg\">'J'</span>\n",
    "\n",
    "<span class=\"ansi-red-fg\" style=\"color: #ff0000;\">TypeError</span>: 'str' object does not support item assignment</pre>"
   ]
  },
  {
   "cell_type": "code",
   "execution_count": null,
   "metadata": {},
   "outputs": [],
   "source": [
    "s = 'Python'\n",
    "s = 'J' + s[1:]\n",
    "print(s)"
   ]
  },
  {
   "cell_type": "markdown",
   "metadata": {},
   "source": [
    "<p><strong>Few Operators for Strings</strong></p>\n",
    "<table class=\"table table-bordered\">\n",
    "<tbody>\n",
    "<tr>\n",
    "<th>Operator</th>\n",
    "<th>Description</th>\n",
    "</tr>\n",
    "<tr>\n",
    "<td class=\"ts\">+</td>\n",
    "<td>Concatenation - Adds values on either side of the operator</td>\n",
    "</tr>\n",
    "<tr>\n",
    "<td class=\"ts\">*</td>\n",
    "<td>Repetition - Creates new strings, concatenating multiple copies of the same string</td>\n",
    "</tr>\n",
    "<tr>\n",
    "<td class=\"ts\">[]</td>\n",
    "<td>Slice - Gives the character from the given index</td>\n",
    "</tr>\n",
    "<tr>\n",
    "<td class=\"ts\">[ : ]</td>\n",
    "<td>Range Slice - Gives the characters from the given range</td>\n",
    "</tr>\n",
    "<tr>\n",
    "<td class=\"ts\">in</td>\n",
    "<td>Membership - Returns true if a character exists in the given string</td>\n",
    "</tr>\n",
    "<tr>\n",
    "<td class=\"ts\">not in</td>\n",
    "<td>Membership - Returns true if a character does not exist in the given string</td>\n",
    "</tr>\n",
    "</tbody>\n",
    "</table>"
   ]
  },
  {
   "cell_type": "code",
   "execution_count": null,
   "metadata": {},
   "outputs": [],
   "source": [
    "s1 = 'Spotle'\n",
    "s2 = '.ai'\n",
    "t = s1 + s2\n",
    "print(t)"
   ]
  },
  {
   "cell_type": "code",
   "execution_count": null,
   "metadata": {},
   "outputs": [],
   "source": [
    "s = s1*2\n",
    "print(s)"
   ]
  },
  {
   "cell_type": "code",
   "execution_count": null,
   "metadata": {},
   "outputs": [],
   "source": [
    "print(s1[0])\n",
    "print(t[-4:-1])"
   ]
  },
  {
   "cell_type": "code",
   "execution_count": null,
   "metadata": {},
   "outputs": [],
   "source": [
    "'.' in t"
   ]
  },
  {
   "cell_type": "code",
   "execution_count": null,
   "metadata": {},
   "outputs": [],
   "source": [
    "'ai' in t"
   ]
  },
  {
   "cell_type": "code",
   "execution_count": null,
   "metadata": {},
   "outputs": [],
   "source": [
    "'sp' in t"
   ]
  },
  {
   "cell_type": "code",
   "execution_count": null,
   "metadata": {},
   "outputs": [],
   "source": [
    "'*' not in t"
   ]
  },
  {
   "cell_type": "code",
   "execution_count": null,
   "metadata": {},
   "outputs": [],
   "source": []
  }
 ],
 "metadata": {
  "kernelspec": {
   "display_name": "Python 3",
   "language": "python",
   "name": "python3"
  },
  "language_info": {
   "codemirror_mode": {
    "name": "ipython",
    "version": 3
   },
   "file_extension": ".py",
   "mimetype": "text/x-python",
   "name": "python",
   "nbconvert_exporter": "python",
   "pygments_lexer": "ipython3",
   "version": "3.7.2"
  }
 },
 "nbformat": 4,
 "nbformat_minor": 2
}
