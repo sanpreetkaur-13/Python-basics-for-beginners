{
 "cells": [
  {
   "cell_type": "markdown",
   "metadata": {},
   "source": [
    "<p><strong>Tuple</strong></p>\n",
    "<p>Normally we talk about pairs, triples, quadruples, but in general when it goes to values of k we call them k tuples. On Python, tuples are also valid values. You can take a single name; and assign it a tuple of values.</p>"
   ]
  },
  {
   "cell_type": "code",
   "execution_count": null,
   "metadata": {},
   "outputs": [],
   "source": [
    "coordinate = (1.5, 2)\n",
    "print(coordinate, type(coordinate))"
   ]
  },
  {
   "cell_type": "code",
   "execution_count": null,
   "metadata": {},
   "outputs": [],
   "source": [
    "birthday = (19, 'September', 1977)\n",
    "print(birthday, type(birthday))"
   ]
  },
  {
   "cell_type": "markdown",
   "metadata": {},
   "source": [
    "Tuple is a kind of a sequence, like string and list. We can extract one element of a sequence."
   ]
  },
  {
   "cell_type": "code",
   "execution_count": null,
   "metadata": {},
   "outputs": [],
   "source": [
    "xcoordinate = coordinate[0]\n",
    "ycoordinate = coordinate[1]\n",
    "\n",
    "print('xcoordinate = {}, ycoordinate = {}'.format(xcoordinate, ycoordinate))"
   ]
  },
  {
   "cell_type": "markdown",
   "metadata": {},
   "source": [
    "Even we can take a slice. If we want only day and month."
   ]
  },
  {
   "cell_type": "code",
   "execution_count": null,
   "metadata": {},
   "outputs": [],
   "source": [
    "day_month = birthday[0:2]\n",
    "print(day_month, type(day_month))"
   ]
  },
  {
   "cell_type": "markdown",
   "metadata": {},
   "source": [
    "<p>Tuple behaves very much like a different type of sequence like list, but the difference between a tuple and a list is tuple is immutable. If we try to update a tuple like following, then Python throw an error.</p>\n",
    "<p>&nbsp; &nbsp; <strong>abc = (1,2,3)</strong><br /><strong>&nbsp; &nbsp; abc[0] = 10</strong></p>\n",
    "<pre><span class=\"ansi-red-fg\">---------------------------------------------------------------------------</span>\n",
    "<span class=\"ansi-red-fg\">TypeError</span>                                 Traceback (most recent call last)\n",
    "<span class=\"ansi-green-fg\">&lt;ipython-input-6-e5c9ea36a8f4&gt;</span> in <span class=\"ansi-cyan-fg\">&lt;module&gt;</span>\n",
    "<span class=\"ansi-green-intense-fg ansi-bold\">      1</span> abc <span class=\"ansi-blue-fg\">=</span> <span class=\"ansi-blue-fg\">(</span><span class=\"ansi-cyan-fg\">1</span><span class=\"ansi-blue-fg\">,</span><span class=\"ansi-cyan-fg\">2</span><span class=\"ansi-blue-fg\">,</span><span class=\"ansi-cyan-fg\">3</span><span class=\"ansi-blue-fg\">)</span>\n",
    "<span class=\"ansi-green-fg\">----&gt; 2</span> abc<span class=\"ansi-blue-fg\">[</span><span class=\"ansi-cyan-fg\">0</span><span class=\"ansi-blue-fg\">]</span> <span class=\"ansi-blue-fg\">=</span> <span class=\"ansi-cyan-fg\">10</span>\n",
    "\n",
    "<span class=\"ansi-red-fg\">TypeError</span>: 'tuple' object does not support item assignment</pre>"
   ]
  },
  {
   "cell_type": "markdown",
   "metadata": {},
   "source": [
    "<p>More over we can unpack tuple to multiple variables. For example, here we have a tuple<br /> <strong>&nbsp; &nbsp; abc = (1, 2, 3)</strong><br />we can unpack the values to 3 different variables. Suppose a, b and c three variable where we want to assign values from tuple.<br /> <strong>&nbsp; &nbsp; a, b, c = abc</strong><br />We can check individual&rsquo;s value by printing them.</p>"
   ]
  },
  {
   "cell_type": "code",
   "execution_count": null,
   "metadata": {},
   "outputs": [],
   "source": [
    "abc = (1, 2, 3)\n",
    "a, b, c = abc\n",
    "print(a, type(a))\n",
    "print(b, type(b))\n",
    "print(c, type(c))"
   ]
  }
 ],
 "metadata": {
  "kernelspec": {
   "display_name": "Python 3",
   "language": "python",
   "name": "python3"
  },
  "language_info": {
   "codemirror_mode": {
    "name": "ipython",
    "version": 3
   },
   "file_extension": ".py",
   "mimetype": "text/x-python",
   "name": "python",
   "nbconvert_exporter": "python",
   "pygments_lexer": "ipython3",
   "version": "3.7.2"
  }
 },
 "nbformat": 4,
 "nbformat_minor": 2
}
